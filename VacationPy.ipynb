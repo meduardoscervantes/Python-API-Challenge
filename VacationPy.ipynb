{
 "cells": [
  {
   "cell_type": "markdown",
   "id": "2bd7591e-55ed-49ac-b920-c5eb89747ae0",
   "metadata": {},
   "source": [
    "# Import modules and dependencies"
   ]
  },
  {
   "cell_type": "code",
   "execution_count": 10,
   "id": "2dae8035-f243-438e-8edd-bc854fd240d4",
   "metadata": {},
   "outputs": [],
   "source": [
    "import pandas as pd\n",
    "import matplotlib.pyplot as plt\n",
    "from api_keys import api_keys\n",
    "from os.path import exists\n",
    "import requests\n",
    "import gmaps\n",
    "pd.set_option('display.max_columns', None)"
   ]
  },
  {
   "cell_type": "markdown",
   "id": "9dbce1f2-66f4-45cb-8670-356718bd5d61",
   "metadata": {},
   "source": [
    "## Generate the .csv file with the data from the requests"
   ]
  },
  {
   "cell_type": "code",
   "execution_count": 11,
   "id": "b95e4eba-c5f5-43c0-8c68-d990614cee96",
   "metadata": {},
   "outputs": [],
   "source": [
    "if not exists(\"Resources/Hotel_Data.csv\"):\n",
    "    keys = api_keys()\n",
    "\n",
    "    url = 'https://maps.googleapis.com/maps/api/place/nearbysearch/json?'\n",
    "    # location=-33.8670522,151.1957362&    #(lat, long)#\n",
    "    # radius=5000&\n",
    "    # type=lodging&\n",
    "    # keyword=hotel&\n",
    "    # key=keys.get_google thinhhhe\n",
    "\n",
    "    raw_data = pd.read_csv(\"Resources/Weather_Data.csv\")\n",
    "\n",
    "    # Filter the data to only get cities with 60-80 degrees, wind speed less than 10, 0 cloudiness\n",
    "    data = raw_data[(raw_data[\"Temperature (Fahrenheit)\"] >= 60) & (raw_data[\"Temperature (Fahrenheit)\"] <= 80)]\n",
    "    data = data[data[\"Wind Speed (mph)\"] <= 10]\n",
    "    data = data[data[\"Cloudiness\"] == 0]\n",
    "    plt.scatter(raw_data[\"Longitude\"], raw_data[\"Latitude\"])\n",
    "    # plt.show() Todo undo comment here\n",
    "    print(data.head(26))\n",
    "    hotel_name = []\n",
    "    hotel_city = []\n",
    "    hotel_country = []\n",
    "    bad_cities = []\n",
    "    for x in range(len(data)):\n",
    "        try:\n",
    "            lat = data[\"Latitude\"].tolist()[x]\n",
    "            long = data[\"Longitude\"].tolist()[x]\n",
    "            request = requests.get(\n",
    "                f'{url}location={lat},{long}&radius=5000&type=lodging&keyword=hotel&key={keys.get_google_key()}'\n",
    "            ).json()\n",
    "            hotel_country.append(request[\"results\"][0][\"plus_code\"][\"compound_code\"].split(\",\")[1])\n",
    "            hotel_city.append(data[\"City\"].tolist()[x])\n",
    "            hotel_name.append(request[\"results\"][0][\"name\"])\n",
    "        except Exception as e:\n",
    "            print(f'{x} index gives Foogle an issue! Will not be adding in a hotel for {data[\"City\"].tolist()[x]}')\n",
    "            bad_cities.append(x)\n",
    "\n",
    "    print(f'Hotel_Name length = {len(hotel_name)}')\n",
    "    print(f'Hotel_City length = {len(hotel_city)}')\n",
    "    print(f'Hotel_Country length = {len(hotel_country)}')\n",
    "\n",
    "    hotel_df = pd.DataFrame({\n",
    "        \"Hotel Name\": hotel_name,\n",
    "        \"Hotel City\": hotel_city,\n",
    "        \"Hotel Country\": hotel_country\n",
    "    })\n",
    "    hotel_df.to_csv(\"Resources/Hotel_Data.csv\", index=False)\n"
   ]
  },
  {
   "cell_type": "markdown",
   "id": "ffc48f84-0208-4fb0-a6e0-e1faacea2664",
   "metadata": {},
   "source": [
    "## Read the data into DataFrames"
   ]
  },
  {
   "cell_type": "code",
   "execution_count": 12,
   "id": "356e7fbb-4d3a-4f86-a4f1-6ee8cc99106c",
   "metadata": {},
   "outputs": [
    {
     "name": "stdout",
     "output_type": "stream",
     "text": [
      "Index(['City', 'Longitude', 'Latitude', 'Temperature (Fahrenheit)', 'Humidity',\n",
      "       'Cloudiness', 'Wind Speed (mph)'],\n",
      "      dtype='object')\n",
      "Index(['Hotel Name', 'Hotel City', 'Hotel Country'], dtype='object')\n"
     ]
    }
   ],
   "source": [
    "weather_df = pd.read_csv(\"Resources/Weather_Data.csv\")\n",
    "vacation_df = pd.read_csv(\"Resources/Hotel_Data.csv\")\n",
    "print(weather_df.columns)\n",
    "print(vacation_df.columns)"
   ]
  },
  {
   "cell_type": "markdown",
   "id": "ca96e4bb-cf38-42c6-8c24-6e7186734b16",
   "metadata": {},
   "source": [
    "## Customize and create the figure"
   ]
  },
  {
   "cell_type": "code",
   "execution_count": 15,
   "id": "c540a2cd-f9c5-4f4a-b1e1-f0c0313a98ff",
   "metadata": {},
   "outputs": [],
   "source": [
    "figure_layout = {\n",
    "    'width': '900px',\n",
    "    'height': '900px',\n",
    "    'border': '1px solid black',\n",
    "    'padding': '1px',\n",
    "    'margin': '0 auto 0 auto'\n",
    "}\n",
    "fig = gmaps.figure(layout=figure_layout)"
   ]
  },
  {
   "cell_type": "markdown",
   "id": "ca7ef3c2-b90e-4691-a0fa-0b99033ceff3",
   "metadata": {},
   "source": [
    "### Create the global heatmap"
   ]
  },
  {
   "cell_type": "code",
   "execution_count": 16,
   "id": "64f2892e-db7d-45b9-bba9-b377103a0591",
   "metadata": {},
   "outputs": [
    {
     "data": {
      "application/vnd.jupyter.widget-view+json": {
       "model_id": "96b37df48ed549f4a6d52eba8fc5cca9",
       "version_major": 2,
       "version_minor": 0
      },
      "text/plain": [
       "Figure(layout=FigureLayout(border='1px solid black', height='900px', margin='0 auto 0 auto', padding='1px', wi…"
      ]
     },
     "metadata": {},
     "output_type": "display_data"
    }
   ],
   "source": [
    "lat_long = weather_df[[\"Latitude\",\"Longitude\"]]\n",
    "humidity = weather_df[\"Humidity\"]\n",
    "heat_layer = gmaps.heatmap_layer(lat_long, weights=humidity)\n",
    "fig.add_layer(heat_layer)\n",
    "fig\n"
   ]
  },
  {
   "cell_type": "markdown",
   "id": "0b9a2767",
   "metadata": {},
   "source": [
    "### Create the markers for the ideal vacation locations (Assuming I could travel...)"
   ]
  },
  {
   "cell_type": "code",
   "execution_count": 43,
   "id": "d53fd098",
   "metadata": {},
   "outputs": [
    {
     "data": {
      "text/html": [
       "<div>\n",
       "<style scoped>\n",
       "    .dataframe tbody tr th:only-of-type {\n",
       "        vertical-align: middle;\n",
       "    }\n",
       "\n",
       "    .dataframe tbody tr th {\n",
       "        vertical-align: top;\n",
       "    }\n",
       "\n",
       "    .dataframe thead th {\n",
       "        text-align: right;\n",
       "    }\n",
       "</style>\n",
       "<table border=\"1\" class=\"dataframe\">\n",
       "  <thead>\n",
       "    <tr style=\"text-align: right;\">\n",
       "      <th></th>\n",
       "      <th>Hotel Name</th>\n",
       "      <th>Hotel City</th>\n",
       "      <th>Hotel Country</th>\n",
       "      <th>Hotel Latitude</th>\n",
       "      <th>Hotel Longitude</th>\n",
       "    </tr>\n",
       "  </thead>\n",
       "  <tbody>\n",
       "    <tr>\n",
       "      <th>0</th>\n",
       "      <td>The Glen Boutique Hotel &amp; Spa</td>\n",
       "      <td>Cape Town</td>\n",
       "      <td>South Africa</td>\n",
       "      <td>-33.9258</td>\n",
       "      <td>18.4232</td>\n",
       "    </tr>\n",
       "    <tr>\n",
       "      <th>1</th>\n",
       "      <td>Herms Restaurant and Boutique Hotel</td>\n",
       "      <td>Port Elizabeth</td>\n",
       "      <td>South Africa</td>\n",
       "      <td>-33.9180</td>\n",
       "      <td>25.5701</td>\n",
       "    </tr>\n",
       "    <tr>\n",
       "      <th>2</th>\n",
       "      <td>Hotel Chiqui Santander</td>\n",
       "      <td>Santander</td>\n",
       "      <td>Spain</td>\n",
       "      <td>43.4647</td>\n",
       "      <td>-3.8044</td>\n",
       "    </tr>\n",
       "    <tr>\n",
       "      <th>3</th>\n",
       "      <td>Hosteria Sampedro</td>\n",
       "      <td>Rawson</td>\n",
       "      <td>Chubut Province</td>\n",
       "      <td>-43.3002</td>\n",
       "      <td>-65.1023</td>\n",
       "    </tr>\n",
       "    <tr>\n",
       "      <th>4</th>\n",
       "      <td>Гостиница Respect</td>\n",
       "      <td>Balkhash</td>\n",
       "      <td>Kazakhstan</td>\n",
       "      <td>46.8440</td>\n",
       "      <td>74.9804</td>\n",
       "    </tr>\n",
       "  </tbody>\n",
       "</table>\n",
       "</div>"
      ],
      "text/plain": [
       "                            Hotel Name      Hotel City     Hotel Country  \\\n",
       "0        The Glen Boutique Hotel & Spa       Cape Town      South Africa   \n",
       "1  Herms Restaurant and Boutique Hotel  Port Elizabeth      South Africa   \n",
       "2               Hotel Chiqui Santander       Santander             Spain   \n",
       "3                    Hosteria Sampedro          Rawson   Chubut Province   \n",
       "4                    Гостиница Respect        Balkhash        Kazakhstan   \n",
       "\n",
       "   Hotel Latitude  Hotel Longitude  \n",
       "0        -33.9258          18.4232  \n",
       "1        -33.9180          25.5701  \n",
       "2         43.4647          -3.8044  \n",
       "3        -43.3002         -65.1023  \n",
       "4         46.8440          74.9804  "
      ]
     },
     "execution_count": 43,
     "metadata": {},
     "output_type": "execute_result"
    }
   ],
   "source": [
    "vacation_df[\"Hotel Latitude\"] = [\n",
    "    weather_df[weather_df[\"City\"] == vacation_df[\"Hotel City\"].tolist()[x]][\"Latitude\"].sum()\n",
    "    for x in range(len(vacation_df))\n",
    "]\n",
    "vacation_df[\"Hotel Longitude\"] = [\n",
    "    weather_df[weather_df[\"City\"] == vacation_df[\"Hotel City\"].tolist()[x]][\"Longitude\"].sum()\n",
    "    for x in range(len(vacation_df))\n",
    "]\n",
    "vacation_df.head()"
   ]
  },
  {
   "cell_type": "code",
   "execution_count": 47,
   "id": "1dc7d2ba",
   "metadata": {},
   "outputs": [
    {
     "data": {
      "application/vnd.jupyter.widget-view+json": {
       "model_id": "96b37df48ed549f4a6d52eba8fc5cca9",
       "version_major": 2,
       "version_minor": 0
      },
      "text/plain": [
       "Figure(layout=FigureLayout(border='1px solid black', height='900px', margin='0 auto 0 auto', padding='1px', wi…"
      ]
     },
     "metadata": {},
     "output_type": "display_data"
    }
   ],
   "source": [
    "hotel_longlat = vacation_df[[\"Hotel Latitude\", \"Hotel Longitude\"]]\n",
    "markers = gmaps.marker_layer(hotel_longlat,\n",
    "                            info_box_content =[\n",
    "                                f'{vacation_df[\"Hotel Name\"].tolist()[x]}, {vacation_df[\"Hotel City\"].tolist()[x]}, {vacation_df[\"Hotel Country\"].tolist()[x]}'\n",
    "                                for x in range(len(vacation_df))\n",
    "                            ])\n",
    "fig.add_layer(markers)\n",
    "fig"
   ]
  },
  {
   "cell_type": "code",
   "execution_count": null,
   "id": "4255573c",
   "metadata": {},
   "outputs": [],
   "source": []
  }
 ],
 "metadata": {
  "kernelspec": {
   "display_name": "Python 3 (ipykernel)",
   "language": "python",
   "name": "python3"
  },
  "language_info": {
   "codemirror_mode": {
    "name": "ipython",
    "version": 3
   },
   "file_extension": ".py",
   "mimetype": "text/x-python",
   "name": "python",
   "nbconvert_exporter": "python",
   "pygments_lexer": "ipython3",
   "version": "3.8.8"
  }
 },
 "nbformat": 4,
 "nbformat_minor": 5
}
